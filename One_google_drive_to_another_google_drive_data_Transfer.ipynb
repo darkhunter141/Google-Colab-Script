{
  "nbformat": 4,
  "nbformat_minor": 0,
  "metadata": {
    "colab": {
      "name": "One_google_drive_to_another_google_drive_data_Transfer.ipynb",
      "provenance": [],
      "collapsed_sections": [
        "Xf9m2EMAzWGu",
        "uzzXvQYJ577D",
        "vtFFKiznBdIF"
      ]
    },
    "kernelspec": {
      "name": "python3",
      "display_name": "Python 3"
    }
  },
  "cells": [
    {
      "cell_type": "markdown",
      "metadata": {
        "id": "Xon2rVkHxFX6"
      },
      "source": [
        "## <center><img src=\"https://i.ibb.co/jGSdsjq/One-google-drive-to-another-google-drive-data-Transfer.png\" alt=\"torrent-to-drive\" border=\"0\"> </center>"
      ]
    },
    {
      "cell_type": "markdown",
      "metadata": {
        "id": "Xf9m2EMAzWGu"
      },
      "source": [
        "## STEP 1 : MOUNT YOUR FIRST GOOGLE DRIVE WHICH INCLUDE SHARE DRIVE"
      ]
    },
    {
      "cell_type": "code",
      "metadata": {
        "id": "FTd9zH0gSL60",
        "cellView": "form"
      },
      "source": [
        "#@markdown <center><h1>It Squad BD</h1></center><br>\n",
        "#@markdown <br><center><img src='https://i.ibb.co/9GZ01LL/Shared-Drive.png' height=\"50\" alt=\"Gdrive-logo\"/></center>\n",
        "#@markdown <center><h3>Mount Gdrive to /content/drive</h3></center><br>\n",
        "MODE = \"MOUNT\" #@param [\"MOUNT\", \"UNMOUNT\"]\n",
        "#Mount your Gdrive! \n",
        "from google.colab import drive\n",
        "drive.mount._DEBUG = False\n",
        "if MODE == \"MOUNT\":\n",
        "  drive.mount('/content/drive', force_remount=True)\n",
        "elif MODE == \"UNMOUNT\":\n",
        "  try:\n",
        "    drive.flush_and_unmount()\n",
        "  except ValueError:\n",
        "    pass\n",
        "  get_ipython().system_raw(\"rm -rf /root/.config/Google/DriveFS\")"
      ],
      "execution_count": null,
      "outputs": []
    },
    {
      "cell_type": "markdown",
      "metadata": {
        "id": "uzzXvQYJ577D"
      },
      "source": [
        "#STEP 2 : MOUNT YOUR SECOND GOOGLE DRIVE \r\n",
        "```\r\n",
        "THIS CELL WILL NOT ABLE MOUNT YOUR SHARE DRIVE\r\n",
        "```"
      ]
    },
    {
      "cell_type": "code",
      "metadata": {
        "id": "Nv4ca9x2AYax",
        "cellView": "form"
      },
      "source": [
        "#@title\r\n",
        "#@markdown <h3>⬅️ Click Here to Mount Second Drive</h3>\r\n",
        "\r\n",
        "\r\n",
        "!apt-get install -y -qq software-properties-common python-software-properties module-init-tools\r\n",
        "!add-apt-repository -y ppa:alessandro-strada/ppa 2>&1 > /dev/null\r\n",
        "!apt-get update -qq 2>&1 > /dev/null\r\n",
        "!apt-get -y install -qq google-drive-ocamlfuse fuse\r\n",
        "from google.colab import auth\r\n",
        "auth.authenticate_user()\r\n",
        "from oauth2client.client import GoogleCredentials\r\n",
        "creds = GoogleCredentials.get_application_default()\r\n",
        "import getpass\r\n",
        "!google-drive-ocamlfuse -headless -id={creds.client_id} -secret={creds.client_secret} < /dev/null 2>&1 | grep URL\r\n",
        "vcode = getpass.getpass()\r\n",
        "!echo {vcode} | google-drive-ocamlfuse -headless -id={creds.client_id} -secret={creds.client_secret}\r\n",
        "!sudo mkdir /content/drive1\r\n",
        "!google-drive-ocamlfuse /content/drive1\r\n"
      ],
      "execution_count": null,
      "outputs": []
    },
    {
      "cell_type": "markdown",
      "metadata": {
        "id": "vtFFKiznBdIF"
      },
      "source": [
        "#STEP 3 : TRANSFER FILE/FOLDER ONE GDRIVE TO ANOTHER *GDRIVE* "
      ]
    },
    {
      "cell_type": "code",
      "metadata": {
        "id": "hsVVbcwVBtVY"
      },
      "source": [
        "!sudo cp -r -v \"\" \"\""
      ],
      "execution_count": null,
      "outputs": []
    }
  ]
}