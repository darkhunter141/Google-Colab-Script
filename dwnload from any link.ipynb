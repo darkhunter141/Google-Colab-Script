{
  "nbformat": 4,
  "nbformat_minor": 0,
  "metadata": {
    "colab": {
      "name": "Content_Transfer_GUI.ipynb",
      "provenance": []
    },
    "kernelspec": {
      "name": "python3",
      "display_name": "Python 3.9.1 64-bit",
      "metadata": {
        "interpreter": {
          "hash": "2df2772b0d7d15804a48a98c0dde90ada1a2cf1d5b226dba73acef1db1090c46"
        }
      }
    }
  },
  "cells": [
    {
      "source": [
        "## <center><img src='https://i.ibb.co/Y3rmr4C/Itsquad.png' height=\"100\" alt=\"filebrowser\" /></center>"
      ],
      "cell_type": "markdown",
      "metadata": {}
    },
    {
      "source": [
        "#@markdown <center><h1>It Squad BD</h1></center><br>\n",
        "#@markdown <br><center><img src='https://upload.wikimedia.org/wikipedia/commons/thumb/d/da/Google_Drive_logo.png/600px-Google_Drive_logo.png' height=\"50\" alt=\"Gdrive-logo\"/></center>\n",
        "#@markdown <center><h3>Mount Gdrive to /content/drive</h3></center><br>\n",
        "MODE = \"MOUNT\" #@param [\"MOUNT\", \"UNMOUNT\"]\n",
        "#Mount your Gdrive! \n",
        "from google.colab import drive\n",
        "drive.mount._DEBUG = False\n",
        "if MODE == \"MOUNT\":\n",
        "  drive.mount('/content/drive', force_remount=True)\n",
        "elif MODE == \"UNMOUNT\":\n",
        "  try:\n",
        "    drive.flush_and_unmount()\n",
        "  except ValueError:\n",
        "    pass\n",
        "  get_ipython().system_raw(\"rm -rf /root/.config/Google/DriveFS\")"
      ],
      "cell_type": "code",
      "metadata": {
        "id": "FTd9zH0gSL60",
        "cellView": "form"
      },
      "execution_count": null,
      "outputs": []
    },
    {
      "source": [
        "## <center><h3>DOWNLOAD FILES FROM ANY WEBSITE TO YOUR G-DRIVE DIERCTLY </h3></center>"
      ],
      "cell_type": "markdown",
      "metadata": {}
    },
    {
      "source": [
        "\n",
        "\n",
        "import os\n",
        "os.chdir(\"Path of Drive location\")\n",
        "!wget -c \"Download link\" --no-check-certificate"
      ],
      "cell_type": "code",
      "metadata": {},
      "execution_count": null,
      "outputs": []
    }
  ]
}